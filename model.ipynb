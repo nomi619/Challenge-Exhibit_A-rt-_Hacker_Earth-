{
 "metadata": {
  "language_info": {
   "codemirror_mode": {
    "name": "ipython",
    "version": 3
   },
   "file_extension": ".py",
   "mimetype": "text/x-python",
   "name": "python",
   "nbconvert_exporter": "python",
   "pygments_lexer": "ipython3",
   "version": "3.8.5-final"
  },
  "orig_nbformat": 2,
  "kernelspec": {
   "name": "python3",
   "display_name": "Python 3",
   "language": "python"
  }
 },
 "nbformat": 4,
 "nbformat_minor": 2,
 "cells": [
  {
   "cell_type": "code",
   "execution_count": 395,
   "metadata": {},
   "outputs": [],
   "source": [
    "import pandas as pd\n",
    "import statsmodels.formula.api as sm\n",
    "import seaborn as sns\n",
    "import matplotlib.pyplot as plt\n",
    "from sklearn.model_selection import train_test_split\n",
    "from sklearn import metrics\n",
    "from xgboost import XGBRegressor\n",
    "from sklearn import preprocessing\n",
    "import numpy as np\n",
    "from sklearn.metrics import mean_squared_error\n",
    "from scipy.special import boxcox,inv_boxcox\n",
    "import datetime"
   ]
  },
  {
   "cell_type": "code",
   "execution_count": 396,
   "metadata": {},
   "outputs": [],
   "source": [
    "train=pd.read_csv('train.csv')\n",
    "train[\"Cost\"]=abs(train[\"Cost\"])\n",
    "train=train.dropna(subset=['Price Of Sculpture','Material','Base Shipping Price','Weight','Height','Width','Artist Reputation'])\n",
    "#train=train.replace(to_replace=['Marble','Brass'],value=['Stone','Aluminium'])\n",
    "train=train.replace(to_replace=['Stone','Clay','Wood','Aluminium','Bronze','Marble','Brass'],value=[1,2,3,4,5,6,7])\n",
    "#train['Weight']=train['Weight'].fillna(0)\n",
    "#train['Width']=train['Width'].fillna(0)\n",
    "#train['Height']=train['Height'].fillna(0)\n",
    "#train['Artist Reputation']=train['Artist Reputation'].fillna(0)\n",
    "\n",
    "del train[\"Artist Name\"]\n",
    "del train[\"Customer Location\"]\n",
    "del train[\"Customer Id\"]\n",
    "del train[\"International\"]\n",
    "del train[\"Express Shipment\"]\n",
    "del train[\"Installation Included\"]\n",
    "del train[\"Transport\"]\n",
    "del train[\"Fragile\"]\n",
    "del train[\"Customer Information\"]\n",
    "del train[\"Remote Location\"]\n",
    "del train[\"Scheduled Date\"]\n",
    "del train[\"Delivery Date\"]\n",
    "train=train.rename(columns={'Artist Reputation':'Artist_Reputation','Price Of Sculpture':'Price_of_Sculpture','Base Shipping Price':'Base_Shipping_Price'})\n"
   ]
  },
  {
   "cell_type": "code",
   "execution_count": 397,
   "metadata": {},
   "outputs": [
    {
     "output_type": "execute_result",
     "data": {
      "text/plain": [
       "1.7592747703196607"
      ]
     },
     "metadata": {},
     "execution_count": 397
    }
   ],
   "source": [
    "train['Weight']=boxcox(train['Weight'],0.1)\n",
    "train['Cost']=boxcox(train['Cost'],0)\n",
    "#train['Height']=boxcox(train['Height'],0.745)\n",
    "#train['Width']=boxcox(train['Width'],0.635)\n",
    "train['Artist_Reputation']=boxcox(train['Artist_Reputation'],0.86)\n",
    "train['Price_of_Sculpture']=boxcox(train['Price_of_Sculpture'],-0.70)\n",
    "train['Base_Shipping_Price']=boxcox(train['Base_Shipping_Price'],-0.48)\n",
    "pd.Series(train['Cost']).skew()"
   ]
  },
  {
   "cell_type": "code",
   "execution_count": 398,
   "metadata": {},
   "outputs": [],
   "source": [
    "y=train['Cost']\n",
    "del train['Cost']"
   ]
  },
  {
   "cell_type": "code",
   "execution_count": 399,
   "metadata": {},
   "outputs": [],
   "source": [
    "X_train, X_test, y_train, y_test = train_test_split(train, y, test_size=0.3,random_state=123)\n",
    "#X_train=X_train.assign(Cost=y_train)"
   ]
  },
  {
   "cell_type": "code",
   "execution_count": 400,
   "metadata": {},
   "outputs": [],
   "source": [
    "#mdl=sm.ols(\"Cost ~ (Price_of_Sculpture+Base_Shipping_Price)*Material*Height*Width*Weight*Artist_Reputation\",data=X_train).fit()"
   ]
  },
  {
   "cell_type": "code",
   "execution_count": 401,
   "metadata": {},
   "outputs": [],
   "source": [
    "weights=[1,1,1,1,1,1.0]"
   ]
  },
  {
   "cell_type": "code",
   "execution_count": 402,
   "metadata": {},
   "outputs": [
    {
     "output_type": "execute_result",
     "data": {
      "text/plain": [
       "XGBRegressor(base_score=0.5, booster='gbtree', colsample_bylevel=1,\n",
       "             colsample_bynode=1, colsample_bytree=1, gamma=0, gpu_id=-1,\n",
       "             importance_type='gain', interaction_constraints='',\n",
       "             learning_rate=0.300000012, max_delta_step=0, max_depth=6,\n",
       "             min_child_weight=1, missing=nan, monotone_constraints='()',\n",
       "             n_estimators=1000, n_jobs=4, num_parallel_tree=1, random_state=0,\n",
       "             reg_alpha=0, reg_lambda=1, scale_pos_weight=1, subsample=1,\n",
       "             tree_method='exact', validate_parameters=1, verbosity=None)"
      ]
     },
     "metadata": {},
     "execution_count": 402
    }
   ],
   "source": [
    "mdl = XGBRegressor(n_estimators=1000,objective='reg:squarederror',min_child_weight=1)\n",
    "\n",
    "mdl.fit(X_train,y_train,feature_weights=weights)"
   ]
  },
  {
   "cell_type": "code",
   "execution_count": 403,
   "metadata": {},
   "outputs": [
    {
     "output_type": "stream",
     "name": "stdout",
     "text": [
      "0.6738488230570336\n"
     ]
    }
   ],
   "source": [
    "pred=mdl.predict(X_test)\n",
    "pred=inv_boxcox(pred,0)\n",
    "y_test=inv_boxcox(y_test,0)\n",
    "print(metrics.r2_score(y_test,pred))"
   ]
  },
  {
   "cell_type": "code",
   "execution_count": 404,
   "metadata": {},
   "outputs": [],
   "source": [
    "score=100*max(0, 1-metrics.mean_squared_log_error(y_test, pred))"
   ]
  },
  {
   "cell_type": "code",
   "execution_count": 405,
   "metadata": {},
   "outputs": [
    {
     "output_type": "stream",
     "name": "stdout",
     "text": [
      "91.45028428427528\n"
     ]
    }
   ],
   "source": [
    "print(score)"
   ]
  },
  {
   "cell_type": "code",
   "execution_count": 409,
   "metadata": {},
   "outputs": [],
   "source": [
    "test=pd.read_csv('test.csv')\n",
    "del test[\"Artist Name\"]\n",
    "del test[\"Customer Location\"]\n",
    "del test[\"Customer Id\"]\n",
    "del test[\"International\"]\n",
    "del test[\"Express Shipment\"]\n",
    "del test[\"Installation Included\"]\n",
    "del test[\"Transport\"]\n",
    "del test[\"Fragile\"]\n",
    "del test[\"Customer Information\"]\n",
    "del test[\"Remote Location\"]\n",
    "del test[\"Scheduled Date\"]\n",
    "del test[\"Delivery Date\"]\n",
    "#test['Weight']=test['Weight'].fillna(1)\n",
    "#test['Width']=test['Width'].fillna(1)\n",
    "#test['Height']=test['Height'].fillna(1)\n",
    "#test['Artist Reputation']=test['Artist Reputation'].fillna(0)\n",
    "test=test.rename(columns={'Artist Reputation':'Artist_Reputation','Price Of Sculpture':'Price_of_Sculpture','Base Shipping Price':'Base_Shipping_Price'})\n",
    "test=test.replace(to_replace=['Marble'],value='Stone')\n",
    "test=test.replace(to_replace=['Stone','Clay','Wood','Aluminium','Brass','Bronze'],value=[1,2,3,4,5,6])\n",
    "test['Weight']=boxcox(test['Weight'],0.1)\n",
    "test['Height']=boxcox(test['Height'],0.745)\n",
    "test['Width']=boxcox(test['Width'],0.635)\n",
    "test['Artist_Reputation']=boxcox(test['Artist_Reputation'],0.86)\n",
    "test['Price_of_Sculpture']=boxcox(test['Price_of_Sculpture'],-0.70)\n",
    "test['Base_Shipping_Price']=boxcox(test['Base_Shipping_Price'],-0.48)"
   ]
  },
  {
   "cell_type": "code",
   "execution_count": 407,
   "metadata": {},
   "outputs": [],
   "source": [
    "p=mdl.predict(test)\n",
    "p=inv_boxcox(p,0)"
   ]
  },
  {
   "cell_type": "code",
   "execution_count": 408,
   "metadata": {},
   "outputs": [],
   "source": [
    "test=pd.read_csv('test.csv')\n",
    "output= pd.DataFrame(columns=['Customer Id', 'Cost'])\n",
    "output[\"Customer Id\"]=test[\"Customer Id\"]\n",
    "output[\"Cost\"]=p\n",
    "output.to_csv(\"output.csv\")"
   ]
  },
  {
   "cell_type": "code",
   "execution_count": null,
   "metadata": {},
   "outputs": [],
   "source": []
  },
  {
   "cell_type": "code",
   "execution_count": null,
   "metadata": {},
   "outputs": [],
   "source": []
  }
 ]
}